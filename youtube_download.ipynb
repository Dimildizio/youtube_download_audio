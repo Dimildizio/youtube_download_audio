{
  "nbformat": 4,
  "nbformat_minor": 0,
  "metadata": {
    "colab": {
      "provenance": [],
      "include_colab_link": true
    },
    "kernelspec": {
      "name": "python3",
      "display_name": "Python 3"
    },
    "language_info": {
      "name": "python"
    },
    "widgets": {
      "application/vnd.jupyter.widget-state+json": {
        "1635cc208f7640769b87137a25d8cd38": {
          "model_module": "@jupyter-widgets/controls",
          "model_name": "TextModel",
          "model_module_version": "1.5.0",
          "state": {
            "_dom_classes": [],
            "_model_module": "@jupyter-widgets/controls",
            "_model_module_version": "1.5.0",
            "_model_name": "TextModel",
            "_view_count": null,
            "_view_module": "@jupyter-widgets/controls",
            "_view_module_version": "1.5.0",
            "_view_name": "TextView",
            "continuous_update": true,
            "description": "URL:",
            "description_tooltip": null,
            "disabled": false,
            "layout": "IPY_MODEL_c3b65110a3ba480dbc09cbf2a58ab6c5",
            "placeholder": "Enter YouTube video link here",
            "style": "IPY_MODEL_6505f068f9bb49dfbac933f2262202d3",
            "value": "https://www.youtube.com/watch?v=iNxl16ZkM-A"
          }
        },
        "c3b65110a3ba480dbc09cbf2a58ab6c5": {
          "model_module": "@jupyter-widgets/base",
          "model_name": "LayoutModel",
          "model_module_version": "1.2.0",
          "state": {
            "_model_module": "@jupyter-widgets/base",
            "_model_module_version": "1.2.0",
            "_model_name": "LayoutModel",
            "_view_count": null,
            "_view_module": "@jupyter-widgets/base",
            "_view_module_version": "1.2.0",
            "_view_name": "LayoutView",
            "align_content": null,
            "align_items": null,
            "align_self": null,
            "border": null,
            "bottom": null,
            "display": null,
            "flex": null,
            "flex_flow": null,
            "grid_area": null,
            "grid_auto_columns": null,
            "grid_auto_flow": null,
            "grid_auto_rows": null,
            "grid_column": null,
            "grid_gap": null,
            "grid_row": null,
            "grid_template_areas": null,
            "grid_template_columns": null,
            "grid_template_rows": null,
            "height": null,
            "justify_content": null,
            "justify_items": null,
            "left": null,
            "margin": null,
            "max_height": null,
            "max_width": null,
            "min_height": null,
            "min_width": null,
            "object_fit": null,
            "object_position": null,
            "order": null,
            "overflow": null,
            "overflow_x": null,
            "overflow_y": null,
            "padding": null,
            "right": null,
            "top": null,
            "visibility": null,
            "width": "75%"
          }
        },
        "6505f068f9bb49dfbac933f2262202d3": {
          "model_module": "@jupyter-widgets/controls",
          "model_name": "DescriptionStyleModel",
          "model_module_version": "1.5.0",
          "state": {
            "_model_module": "@jupyter-widgets/controls",
            "_model_module_version": "1.5.0",
            "_model_name": "DescriptionStyleModel",
            "_view_count": null,
            "_view_module": "@jupyter-widgets/base",
            "_view_module_version": "1.2.0",
            "_view_name": "StyleView",
            "description_width": ""
          }
        },
        "dcbd2c1e659149a6ac57888048806db5": {
          "model_module": "@jupyter-widgets/controls",
          "model_name": "ButtonModel",
          "model_module_version": "1.5.0",
          "state": {
            "_dom_classes": [],
            "_model_module": "@jupyter-widgets/controls",
            "_model_module_version": "1.5.0",
            "_model_name": "ButtonModel",
            "_view_count": null,
            "_view_module": "@jupyter-widgets/controls",
            "_view_module_version": "1.5.0",
            "_view_name": "ButtonView",
            "button_style": "primary",
            "description": "Download",
            "disabled": false,
            "icon": "",
            "layout": "IPY_MODEL_6334877fc4244c109e7d4ed6e24b83cd",
            "style": "IPY_MODEL_91160fb7a4694969ad984af06d6b6059",
            "tooltip": "Click to download the video"
          }
        },
        "6334877fc4244c109e7d4ed6e24b83cd": {
          "model_module": "@jupyter-widgets/base",
          "model_name": "LayoutModel",
          "model_module_version": "1.2.0",
          "state": {
            "_model_module": "@jupyter-widgets/base",
            "_model_module_version": "1.2.0",
            "_model_name": "LayoutModel",
            "_view_count": null,
            "_view_module": "@jupyter-widgets/base",
            "_view_module_version": "1.2.0",
            "_view_name": "LayoutView",
            "align_content": null,
            "align_items": null,
            "align_self": null,
            "border": null,
            "bottom": null,
            "display": null,
            "flex": null,
            "flex_flow": null,
            "grid_area": null,
            "grid_auto_columns": null,
            "grid_auto_flow": null,
            "grid_auto_rows": null,
            "grid_column": null,
            "grid_gap": null,
            "grid_row": null,
            "grid_template_areas": null,
            "grid_template_columns": null,
            "grid_template_rows": null,
            "height": null,
            "justify_content": null,
            "justify_items": null,
            "left": null,
            "margin": null,
            "max_height": null,
            "max_width": null,
            "min_height": null,
            "min_width": null,
            "object_fit": null,
            "object_position": null,
            "order": null,
            "overflow": null,
            "overflow_x": null,
            "overflow_y": null,
            "padding": null,
            "right": null,
            "top": null,
            "visibility": null,
            "width": null
          }
        },
        "91160fb7a4694969ad984af06d6b6059": {
          "model_module": "@jupyter-widgets/controls",
          "model_name": "ButtonStyleModel",
          "model_module_version": "1.5.0",
          "state": {
            "_model_module": "@jupyter-widgets/controls",
            "_model_module_version": "1.5.0",
            "_model_name": "ButtonStyleModel",
            "_view_count": null,
            "_view_module": "@jupyter-widgets/base",
            "_view_module_version": "1.2.0",
            "_view_name": "StyleView",
            "button_color": null,
            "font_weight": ""
          }
        },
        "14b8e97096264fee9944763aa79ca788": {
          "model_module": "@jupyter-widgets/output",
          "model_name": "OutputModel",
          "model_module_version": "1.0.0",
          "state": {
            "_dom_classes": [],
            "_model_module": "@jupyter-widgets/output",
            "_model_module_version": "1.0.0",
            "_model_name": "OutputModel",
            "_view_count": null,
            "_view_module": "@jupyter-widgets/output",
            "_view_module_version": "1.0.0",
            "_view_name": "OutputView",
            "layout": "IPY_MODEL_969d8eb7f2bf4e77957833415c5fb7c1",
            "msg_id": "",
            "outputs": [
              {
                "output_type": "stream",
                "name": "stdout",
                "text": [
                  "Downloading video from: https://www.youtube.com/watch?v=iNxl16ZkM-A\n"
                ]
              },
              {
                "output_type": "stream",
                "name": "stdout",
                "text": [
                  "Download complete. Preparing file for download...\n"
                ]
              },
              {
                "output_type": "stream",
                "name": "stdout",
                "text": [
                  "File ready for download!\n"
                ]
              }
            ]
          }
        },
        "969d8eb7f2bf4e77957833415c5fb7c1": {
          "model_module": "@jupyter-widgets/base",
          "model_name": "LayoutModel",
          "model_module_version": "1.2.0",
          "state": {
            "_model_module": "@jupyter-widgets/base",
            "_model_module_version": "1.2.0",
            "_model_name": "LayoutModel",
            "_view_count": null,
            "_view_module": "@jupyter-widgets/base",
            "_view_module_version": "1.2.0",
            "_view_name": "LayoutView",
            "align_content": null,
            "align_items": null,
            "align_self": null,
            "border": null,
            "bottom": null,
            "display": null,
            "flex": null,
            "flex_flow": null,
            "grid_area": null,
            "grid_auto_columns": null,
            "grid_auto_flow": null,
            "grid_auto_rows": null,
            "grid_column": null,
            "grid_gap": null,
            "grid_row": null,
            "grid_template_areas": null,
            "grid_template_columns": null,
            "grid_template_rows": null,
            "height": null,
            "justify_content": null,
            "justify_items": null,
            "left": null,
            "margin": null,
            "max_height": null,
            "max_width": null,
            "min_height": null,
            "min_width": null,
            "object_fit": null,
            "object_position": null,
            "order": null,
            "overflow": null,
            "overflow_x": null,
            "overflow_y": null,
            "padding": null,
            "right": null,
            "top": null,
            "visibility": null,
            "width": null
          }
        }
      }
    }
  },
  "cells": [
    {
      "cell_type": "markdown",
      "metadata": {
        "id": "view-in-github",
        "colab_type": "text"
      },
      "source": [
        "<a href=\"https://colab.research.google.com/github/Dimildizio/youtube_download_audio/blob/master/youtube_download.ipynb\" target=\"_parent\"><img src=\"https://colab.research.google.com/assets/colab-badge.svg\" alt=\"Open In Colab\"/></a>"
      ]
    },
    {
      "cell_type": "markdown",
      "source": [
        "# Setup"
      ],
      "metadata": {
        "id": "Qsdfu7djFSNb"
      }
    },
    {
      "cell_type": "code",
      "source": [
        "!pip install -q yt_dlp\n",
        "\n",
        "import yt_dlp\n",
        "import os\n",
        "import ipywidgets as widgets\n",
        "from IPython.display import display\n",
        "from google.colab import files\n",
        "\n",
        "# Set maximum quality\n",
        "maximum_height_quality = 480\n",
        "\n",
        "# Create the UI\n",
        "video_url_input = widgets.Text(\n",
        "    placeholder=\"Enter YouTube video link here\",\n",
        "    description=\"URL:\",\n",
        "    layout=widgets.Layout(width=\"75%\")\n",
        ")\n",
        "\n",
        "download_button = widgets.Button(\n",
        "    description=\"Download\",\n",
        "    button_style=\"primary\",\n",
        "    tooltip=\"Click to download the video\"\n",
        ")\n",
        "\n",
        "output_box = widgets.Output()\n",
        "\n",
        "def download_video(_):\n",
        "    video_url = video_url_input.value.strip()\n",
        "    if not video_url:\n",
        "        with output_box:\n",
        "            print(\"Please enter a valid YouTube URL.\")\n",
        "        return\n",
        "\n",
        "    ydl_opts = {\n",
        "        'format': f'bv*[height<={maximum_height_quality}][ext=mp4]+ba[ext=m4a]/b[height<={maximum_height_quality}][ext=mp4]',\n",
        "        'merge_output_format': 'mp4',\n",
        "        'outtmpl': '%(title)s.%(ext)s',\n",
        "    }\n",
        "\n",
        "    with output_box:\n",
        "        output_box.clear_output()\n",
        "        print(f\"Downloading video from: {video_url}\")\n",
        "\n",
        "    try:\n",
        "        with yt_dlp.YoutubeDL(ydl_opts) as ydl:\n",
        "            info = ydl.extract_info(video_url, download=True)\n",
        "            filename = ydl.prepare_filename(info).replace(\".webm\", \".mp4\")\n",
        "\n",
        "        with output_box:\n",
        "            print(\"Download complete. Preparing file for download...\")\n",
        "\n",
        "        files.download(filename)  # Trigger download in Colab\n",
        "\n",
        "        with output_box:\n",
        "            print(\"File ready for download!\")\n",
        "\n",
        "    except Exception as e:\n",
        "        with output_box:\n",
        "            print(f\"An error occurred: {e}\")\n",
        "download_button.on_click(download_video)"
      ],
      "metadata": {
        "id": "qD_Taf0_FEP4",
        "colab": {
          "base_uri": "https://localhost:8080/",
          "height": 53
        },
        "outputId": "673d2e89-ea7a-433a-d804-9967e4d2c4e8"
      },
      "execution_count": 1,
      "outputs": [
        {
          "output_type": "stream",
          "name": "stdout",
          "text": [
            "\u001b[2K     \u001b[90m━━━━━━━━━━━━━━━━━━━━━━━━━━━━━━━━━━━━━━━━\u001b[0m \u001b[32m171.9/171.9 kB\u001b[0m \u001b[31m2.3 MB/s\u001b[0m eta \u001b[36m0:00:00\u001b[0m\n",
            "\u001b[2K   \u001b[90m━━━━━━━━━━━━━━━━━━━━━━━━━━━━━━━━━━━━━━━━\u001b[0m \u001b[32m3.2/3.2 MB\u001b[0m \u001b[31m28.4 MB/s\u001b[0m eta \u001b[36m0:00:00\u001b[0m\n",
            "\u001b[?25h"
          ]
        }
      ]
    },
    {
      "cell_type": "markdown",
      "source": [
        "# Run"
      ],
      "metadata": {
        "id": "YBWvzNOFFWjk"
      }
    },
    {
      "cell_type": "code",
      "source": [
        "display(video_url_input, download_button, output_box)"
      ],
      "metadata": {
        "colab": {
          "base_uri": "https://localhost:8080/",
          "height": 756,
          "referenced_widgets": [
            "1635cc208f7640769b87137a25d8cd38",
            "c3b65110a3ba480dbc09cbf2a58ab6c5",
            "6505f068f9bb49dfbac933f2262202d3",
            "dcbd2c1e659149a6ac57888048806db5",
            "6334877fc4244c109e7d4ed6e24b83cd",
            "91160fb7a4694969ad984af06d6b6059",
            "14b8e97096264fee9944763aa79ca788",
            "969d8eb7f2bf4e77957833415c5fb7c1"
          ]
        },
        "id": "oFAqns3HD-7o",
        "outputId": "5c3f478e-e17d-4ff9-d810-5ffb44f70a5e"
      },
      "execution_count": 2,
      "outputs": [
        {
          "output_type": "display_data",
          "data": {
            "text/plain": [
              "Text(value='', description='URL:', layout=Layout(width='75%'), placeholder='Enter YouTube video link here')"
            ],
            "application/vnd.jupyter.widget-view+json": {
              "version_major": 2,
              "version_minor": 0,
              "model_id": "1635cc208f7640769b87137a25d8cd38"
            }
          },
          "metadata": {}
        },
        {
          "output_type": "display_data",
          "data": {
            "text/plain": [
              "Button(button_style='primary', description='Download', style=ButtonStyle(), tooltip='Click to download the vid…"
            ],
            "application/vnd.jupyter.widget-view+json": {
              "version_major": 2,
              "version_minor": 0,
              "model_id": "dcbd2c1e659149a6ac57888048806db5"
            }
          },
          "metadata": {}
        },
        {
          "output_type": "display_data",
          "data": {
            "text/plain": [
              "Output()"
            ],
            "application/vnd.jupyter.widget-view+json": {
              "version_major": 2,
              "version_minor": 0,
              "model_id": "14b8e97096264fee9944763aa79ca788"
            }
          },
          "metadata": {}
        },
        {
          "output_type": "stream",
          "name": "stdout",
          "text": [
            "[youtube] Extracting URL: https://www.youtube.com/watch?v=ftwVrEF_OlQ\n",
            "[youtube] ftwVrEF_OlQ: Downloading webpage\n",
            "[youtube] ftwVrEF_OlQ: Downloading tv client config\n",
            "[youtube] ftwVrEF_OlQ: Downloading player c8dbda2a\n",
            "[youtube] ftwVrEF_OlQ: Downloading tv player API JSON\n",
            "[youtube] ftwVrEF_OlQ: Downloading ios player API JSON\n",
            "[youtube] ftwVrEF_OlQ: Downloading m3u8 information\n",
            "[info] ftwVrEF_OlQ: Downloading 1 format(s): 606+140\n",
            "[hlsnative] Downloading m3u8 manifest\n",
            "[hlsnative] Total fragments: 150\n",
            "[download] Destination: IELTS Speaking Practice Test - Self study TEST 2.f606.mp4\n",
            "[download] 100% of    5.53MiB in 00:00:14 at 382.21KiB/s                 \n",
            "[download] Destination: IELTS Speaking Practice Test - Self study TEST 2.f140.m4a\n",
            "[download] 100% of   11.58MiB in 00:00:01 at 10.25MiB/s  \n",
            "[Merger] Merging formats into \"IELTS Speaking Practice Test - Self study TEST 2.mp4\"\n",
            "Deleting original file IELTS Speaking Practice Test - Self study TEST 2.f140.m4a (pass -k to keep)\n",
            "Deleting original file IELTS Speaking Practice Test - Self study TEST 2.f606.mp4 (pass -k to keep)\n"
          ]
        },
        {
          "output_type": "display_data",
          "data": {
            "text/plain": [
              "<IPython.core.display.Javascript object>"
            ],
            "application/javascript": [
              "\n",
              "    async function download(id, filename, size) {\n",
              "      if (!google.colab.kernel.accessAllowed) {\n",
              "        return;\n",
              "      }\n",
              "      const div = document.createElement('div');\n",
              "      const label = document.createElement('label');\n",
              "      label.textContent = `Downloading \"${filename}\": `;\n",
              "      div.appendChild(label);\n",
              "      const progress = document.createElement('progress');\n",
              "      progress.max = size;\n",
              "      div.appendChild(progress);\n",
              "      document.body.appendChild(div);\n",
              "\n",
              "      const buffers = [];\n",
              "      let downloaded = 0;\n",
              "\n",
              "      const channel = await google.colab.kernel.comms.open(id);\n",
              "      // Send a message to notify the kernel that we're ready.\n",
              "      channel.send({})\n",
              "\n",
              "      for await (const message of channel.messages) {\n",
              "        // Send a message to notify the kernel that we're ready.\n",
              "        channel.send({})\n",
              "        if (message.buffers) {\n",
              "          for (const buffer of message.buffers) {\n",
              "            buffers.push(buffer);\n",
              "            downloaded += buffer.byteLength;\n",
              "            progress.value = downloaded;\n",
              "          }\n",
              "        }\n",
              "      }\n",
              "      const blob = new Blob(buffers, {type: 'application/binary'});\n",
              "      const a = document.createElement('a');\n",
              "      a.href = window.URL.createObjectURL(blob);\n",
              "      a.download = filename;\n",
              "      div.appendChild(a);\n",
              "      a.click();\n",
              "      div.remove();\n",
              "    }\n",
              "  "
            ]
          },
          "metadata": {}
        },
        {
          "output_type": "display_data",
          "data": {
            "text/plain": [
              "<IPython.core.display.Javascript object>"
            ],
            "application/javascript": [
              "download(\"download_9c8d811b-ce02-45eb-9d9f-cb23bb3052dd\", \"IELTS Speaking Practice Test - Self study TEST 2.mp4\", 18285473)"
            ]
          },
          "metadata": {}
        },
        {
          "output_type": "stream",
          "name": "stdout",
          "text": [
            "[youtube] Extracting URL: https://www.youtube.com/watch?v=iNxl16ZkM-A\n",
            "[youtube] iNxl16ZkM-A: Downloading webpage\n",
            "[youtube] iNxl16ZkM-A: Downloading tv client config\n",
            "[youtube] iNxl16ZkM-A: Downloading player c8dbda2a\n",
            "[youtube] iNxl16ZkM-A: Downloading tv player API JSON\n",
            "[youtube] iNxl16ZkM-A: Downloading ios player API JSON\n",
            "[youtube] iNxl16ZkM-A: Downloading m3u8 information\n",
            "[info] iNxl16ZkM-A: Downloading 1 format(s): 606+140\n",
            "[hlsnative] Downloading m3u8 manifest\n",
            "[hlsnative] Total fragments: 141\n",
            "[download] Destination: IELTS Speaking Practice Test - Self study TEST 1.f606.mp4\n",
            "[download] 100% of    3.78MiB in 00:00:04 at 787.88KiB/s                 \n",
            "[download] Destination: IELTS Speaking Practice Test - Self study TEST 1.f140.m4a\n",
            "[download] 100% of   11.57MiB in 00:00:00 at 19.11MiB/s  \n",
            "[Merger] Merging formats into \"IELTS Speaking Practice Test - Self study TEST 1.mp4\"\n",
            "Deleting original file IELTS Speaking Practice Test - Self study TEST 1.f606.mp4 (pass -k to keep)\n",
            "Deleting original file IELTS Speaking Practice Test - Self study TEST 1.f140.m4a (pass -k to keep)\n"
          ]
        },
        {
          "output_type": "display_data",
          "data": {
            "text/plain": [
              "<IPython.core.display.Javascript object>"
            ],
            "application/javascript": [
              "\n",
              "    async function download(id, filename, size) {\n",
              "      if (!google.colab.kernel.accessAllowed) {\n",
              "        return;\n",
              "      }\n",
              "      const div = document.createElement('div');\n",
              "      const label = document.createElement('label');\n",
              "      label.textContent = `Downloading \"${filename}\": `;\n",
              "      div.appendChild(label);\n",
              "      const progress = document.createElement('progress');\n",
              "      progress.max = size;\n",
              "      div.appendChild(progress);\n",
              "      document.body.appendChild(div);\n",
              "\n",
              "      const buffers = [];\n",
              "      let downloaded = 0;\n",
              "\n",
              "      const channel = await google.colab.kernel.comms.open(id);\n",
              "      // Send a message to notify the kernel that we're ready.\n",
              "      channel.send({})\n",
              "\n",
              "      for await (const message of channel.messages) {\n",
              "        // Send a message to notify the kernel that we're ready.\n",
              "        channel.send({})\n",
              "        if (message.buffers) {\n",
              "          for (const buffer of message.buffers) {\n",
              "            buffers.push(buffer);\n",
              "            downloaded += buffer.byteLength;\n",
              "            progress.value = downloaded;\n",
              "          }\n",
              "        }\n",
              "      }\n",
              "      const blob = new Blob(buffers, {type: 'application/binary'});\n",
              "      const a = document.createElement('a');\n",
              "      a.href = window.URL.createObjectURL(blob);\n",
              "      a.download = filename;\n",
              "      div.appendChild(a);\n",
              "      a.click();\n",
              "      div.remove();\n",
              "    }\n",
              "  "
            ]
          },
          "metadata": {}
        },
        {
          "output_type": "display_data",
          "data": {
            "text/plain": [
              "<IPython.core.display.Javascript object>"
            ],
            "application/javascript": [
              "download(\"download_2fca791f-f7b6-4b13-b829-8f44c2848313\", \"IELTS Speaking Practice Test - Self study TEST 1.mp4\", 16444926)"
            ]
          },
          "metadata": {}
        }
      ]
    }
  ]
}